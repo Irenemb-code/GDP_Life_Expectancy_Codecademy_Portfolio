{
 "cells": [
  {
   "cell_type": "markdown",
   "metadata": {},
   "source": [
    "## Project Flow\n",
    "\n",
    "1. Data preprocessing\n",
    "2. summary stats\n",
    "3. EDA\n",
    "4. Data visualization\n",
    "5. Results"
   ]
  },
  {
   "cell_type": "markdown",
   "metadata": {},
   "source": [
    "## Import Modules"
   ]
  },
  {
   "cell_type": "code",
   "execution_count": 2,
   "metadata": {},
   "outputs": [],
   "source": [
    "import pandas as pd\n",
    "import numpy as np\n",
    "import seaborn as sns\n",
    "import matplotlib.pyplot as plt\n",
    " "
   ]
  },
  {
   "cell_type": "markdown",
   "metadata": {},
   "source": [
    "## 1. Data Cleaning and Pre processing"
   ]
  },
  {
   "cell_type": "code",
   "execution_count": 3,
   "metadata": {},
   "outputs": [
    {
     "name": "stdout",
     "output_type": "stream",
     "text": [
      "  Country  Year  Life expectancy at birth (years)           GDP\n",
      "0   Chile  2000                              77.3  7.786093e+10\n",
      "1   Chile  2001                              77.3  7.097992e+10\n",
      "2   Chile  2002                              77.8  6.973681e+10\n",
      "3   Chile  2003                              77.9  7.564346e+10\n",
      "4   Chile  2004                              78.0  9.921039e+10\n"
     ]
    }
   ],
   "source": [
    "#load the data\n",
    "df = pd.read_csv('all_data.csv')\n",
    "\n",
    "#print a sample of dataset\n",
    "print(df.head())"
   ]
  },
  {
   "cell_type": "markdown",
   "metadata": {},
   "source": [
    "Variables Summary:"
   ]
  },
  {
   "cell_type": "code",
   "execution_count": 4,
   "metadata": {},
   "outputs": [
    {
     "data": {
      "text/plain": [
       "Country                              object\n",
       "Year                                  int64\n",
       "Life expectancy at birth (years)    float64\n",
       "GDP                                 float64\n",
       "dtype: object"
      ]
     },
     "metadata": {},
     "output_type": "display_data"
    },
    {
     "name": "stdout",
     "output_type": "stream",
     "text": [
      "<class 'pandas.core.frame.DataFrame'>\n",
      "RangeIndex: 96 entries, 0 to 95\n",
      "Data columns (total 4 columns):\n",
      " #   Column           Non-Null Count  Dtype  \n",
      "---  ------           --------------  -----  \n",
      " 0   country          96 non-null     object \n",
      " 1   year             96 non-null     int64  \n",
      " 2   life_expectancy  96 non-null     float64\n",
      " 3   gdp              96 non-null     float64\n",
      "dtypes: float64(2), int64(1), object(1)\n",
      "memory usage: 3.1+ KB\n",
      "['Chile', 'China', 'Germany', 'Mexico', 'USA', 'Zimbabwe']\n",
      "[2000, 2001, 2002, 2003, 2004, 2005, 2006, 2007, 2008, 2009, 2010, 2011, 2012, 2013, 2014, 2015]\n"
     ]
    }
   ],
   "source": [
    "\n",
    "#check for duplicates\n",
    "df.duplicated().sum()\n",
    "\n",
    "#check for missing data\n",
    "df.isna().sum()\n",
    "\n",
    "#display the columns datatypes\n",
    "display(df.dtypes)\n",
    "\n",
    "#Change column names to lower case\n",
    "df.columns = [x.lower() for x in df.columns]\n",
    "\n",
    "#Rename life expectancy column name for ease of use\n",
    "df.rename(columns ={'life expectancy at birth (years)': 'life_expectancy'}, inplace=True)\n",
    "\n",
    "#Rename United States of America to U.S.A\n",
    "\n",
    "df['country'].replace('United States of America', 'USA', inplace=True)\n",
    "\n",
    "#Check that it worked and also that the data looks as expected(No missing values)\n",
    "df.info()\n",
    "\n",
    "#Scaling down gdp to billions\n",
    "df.gdp = df.gdp/1000000000\n",
    "\n",
    "#display unique countries and years\n",
    "countries = df.country.unique().tolist()\n",
    "print(countries)\n",
    "\n",
    "#display unique years\n",
    "years = df.year.unique().tolist()\n",
    "print(years)"
   ]
  },
  {
   "cell_type": "markdown",
   "metadata": {},
   "source": [
    "## 2 Summary Stats"
   ]
  },
  {
   "cell_type": "code",
   "execution_count": 5,
   "metadata": {},
   "outputs": [
    {
     "data": {
      "text/html": [
       "<div>\n",
       "<style scoped>\n",
       "    .dataframe tbody tr th:only-of-type {\n",
       "        vertical-align: middle;\n",
       "    }\n",
       "\n",
       "    .dataframe tbody tr th {\n",
       "        vertical-align: top;\n",
       "    }\n",
       "\n",
       "    .dataframe thead th {\n",
       "        text-align: right;\n",
       "    }\n",
       "</style>\n",
       "<table border=\"1\" class=\"dataframe\">\n",
       "  <thead>\n",
       "    <tr style=\"text-align: right;\">\n",
       "      <th></th>\n",
       "      <th>country</th>\n",
       "      <th>life_expectancy</th>\n",
       "    </tr>\n",
       "  </thead>\n",
       "  <tbody>\n",
       "    <tr>\n",
       "      <th>0</th>\n",
       "      <td>Germany</td>\n",
       "      <td>79.66</td>\n",
       "    </tr>\n",
       "    <tr>\n",
       "      <th>1</th>\n",
       "      <td>Chile</td>\n",
       "      <td>78.94</td>\n",
       "    </tr>\n",
       "    <tr>\n",
       "      <th>2</th>\n",
       "      <td>USA</td>\n",
       "      <td>78.06</td>\n",
       "    </tr>\n",
       "    <tr>\n",
       "      <th>3</th>\n",
       "      <td>Mexico</td>\n",
       "      <td>75.72</td>\n",
       "    </tr>\n",
       "    <tr>\n",
       "      <th>4</th>\n",
       "      <td>China</td>\n",
       "      <td>74.26</td>\n",
       "    </tr>\n",
       "    <tr>\n",
       "      <th>5</th>\n",
       "      <td>Zimbabwe</td>\n",
       "      <td>50.09</td>\n",
       "    </tr>\n",
       "  </tbody>\n",
       "</table>\n",
       "</div>"
      ],
      "text/plain": [
       "    country  life_expectancy\n",
       "0   Germany            79.66\n",
       "1     Chile            78.94\n",
       "2       USA            78.06\n",
       "3    Mexico            75.72\n",
       "4     China            74.26\n",
       "5  Zimbabwe            50.09"
      ]
     },
     "metadata": {},
     "output_type": "display_data"
    },
    {
     "data": {
      "text/html": [
       "<div>\n",
       "<style scoped>\n",
       "    .dataframe tbody tr th:only-of-type {\n",
       "        vertical-align: middle;\n",
       "    }\n",
       "\n",
       "    .dataframe tbody tr th {\n",
       "        vertical-align: top;\n",
       "    }\n",
       "\n",
       "    .dataframe thead th {\n",
       "        text-align: right;\n",
       "    }\n",
       "</style>\n",
       "<table border=\"1\" class=\"dataframe\">\n",
       "  <thead>\n",
       "    <tr style=\"text-align: right;\">\n",
       "      <th></th>\n",
       "      <th>country</th>\n",
       "      <th>gdp</th>\n",
       "    </tr>\n",
       "  </thead>\n",
       "  <tbody>\n",
       "    <tr>\n",
       "      <th>0</th>\n",
       "      <td>Chile</td>\n",
       "      <td>169.79</td>\n",
       "    </tr>\n",
       "    <tr>\n",
       "      <th>1</th>\n",
       "      <td>China</td>\n",
       "      <td>4957.71</td>\n",
       "    </tr>\n",
       "    <tr>\n",
       "      <th>2</th>\n",
       "      <td>Germany</td>\n",
       "      <td>3094.78</td>\n",
       "    </tr>\n",
       "    <tr>\n",
       "      <th>3</th>\n",
       "      <td>Mexico</td>\n",
       "      <td>976.65</td>\n",
       "    </tr>\n",
       "    <tr>\n",
       "      <th>4</th>\n",
       "      <td>USA</td>\n",
       "      <td>14075.00</td>\n",
       "    </tr>\n",
       "    <tr>\n",
       "      <th>5</th>\n",
       "      <td>Zimbabwe</td>\n",
       "      <td>9.06</td>\n",
       "    </tr>\n",
       "  </tbody>\n",
       "</table>\n",
       "</div>"
      ],
      "text/plain": [
       "    country       gdp\n",
       "0     Chile    169.79\n",
       "1     China   4957.71\n",
       "2   Germany   3094.78\n",
       "3    Mexico    976.65\n",
       "4       USA  14075.00\n",
       "5  Zimbabwe      9.06"
      ]
     },
     "metadata": {},
     "output_type": "display_data"
    }
   ],
   "source": [
    "#mean life expectancy for every country\n",
    "average_life_expectancy = df.groupby('country', as_index=False).life_expectancy.mean().sort_values(by='life_expectancy', ascending=False).round(2).reset_index().drop(columns='index')\n",
    "display(average_life_expectancy)\n",
    "\n",
    "#mean GDP for every country\n",
    "\n",
    "average_GDP = df.groupby('country',as_index=False).gdp.mean().sort_values(by='country', ascending=True).round(2).reset_index().drop(columns='index')\n",
    "display(average_GDP)\n",
    "\n",
    "#mean GDP of every country in year 2000 compared to year 2015\n",
    "#average_GDP_2000 = df.groupby('country', as_index=False).gdp.mean().sort_values(by='year').reset_index().drop(columns='index')\n",
    "#display(average_GDP_2000)\n",
    "#average_GDP_2015 = df.groupby('country', as_index=False).gdp.mean().sort_values(by='year').reset_index().drop(columns='index')\n",
    "#display(average_GDP_2015)"
   ]
  },
  {
   "cell_type": "code",
   "execution_count": 6,
   "metadata": {},
   "outputs": [
    {
     "data": {
      "text/plain": [
       "{'Chile': 1.85,\n",
       " 'China': 1.85,\n",
       " 'Germany': 1.575,\n",
       " 'Mexico': 0.925,\n",
       " 'USA': 1.3,\n",
       " 'Zimbabwe': 10.15}"
      ]
     },
     "metadata": {},
     "output_type": "display_data"
    }
   ],
   "source": [
    "#get the interquartile range for each country\n",
    "iqr_range = {}\n",
    "\n",
    "for x in df.country:\n",
    "    data = df[df['country'] == x]\n",
    "    \n",
    "    q1, q3 = np.percentile(data.life_expectancy,[25, 75])\n",
    "    \n",
    "    iqr_range[x] = round(q3 - q1, 3) \n",
    "    \n",
    "display(iqr_range)"
   ]
  },
  {
   "cell_type": "code",
   "execution_count": 8,
   "metadata": {},
   "outputs": [
    {
     "data": {
      "image/png": "[encoded data removed]",
      "text/plain": [
       "<Figure size 1200x800 with 1 Axes>"
      ]
     },
     "metadata": {},
     "output_type": "display_data"
    },
    {
     "data": {
      "image/png": "[encoded data removed]",
      "text/plain": [
       "<Figure size 640x480 with 1 Axes>"
      ]
     },
     "metadata": {},
     "output_type": "display_data"
    }
   ],
   "source": [
    "#plot life expectancy and GDP in 6 countries\n",
    "\n",
    "plt.figure(figsize=(12,8))\n",
    "plt.subplot(1,2,1)\n",
    "sns.boxplot(data=df,x='country', y='life_expectancy', hue='country')\n",
    "plt.xlabel('country')\n",
    "plt.ylabel('life_expectancy')\n",
    "plt.title('Life Expectancy in 6 different countries')\n",
    "plt.show()\n",
    "\n",
    "plt.subplot(1,2,2)\n",
    "sns.boxplot(data=df,x='country', y='gdp', hue='country')\n",
    "plt.show()"
   ]
  }
 ],
 "metadata": {
  "kernelspec": {
   "display_name": "Python 3",
   "language": "python",
   "name": "python3"
  },
  "language_info": {
   "codemirror_mode": {
    "name": "ipython",
    "version": 3
   },
   "file_extension": ".py",
   "mimetype": "text/x-python",
   "name": "python",
   "nbconvert_exporter": "python",
   "pygments_lexer": "ipython3",
   "version": "3.9.6"
  }
 },
 "nbformat": 4,
 "nbformat_minor": 2
}
